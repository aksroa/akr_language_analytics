{
 "cells": [
  {
   "cell_type": "code",
   "execution_count": 1,
   "metadata": {},
   "outputs": [],
   "source": [
    "import os\n",
    "import spacy\n",
    "\n",
    "# Remember we need to initialise spaCy\n",
    "nlp = spacy.load(\"en_core_web_sm\")\n",
    "\n",
    "import pandas as pd\n",
    "from spacytextblob.spacytextblob import SpacyTextBlob\n",
    "\n",
    "import matplotlib.pyplot as plt\n",
    "\n",
    "# initialise spacy\n",
    "nlp = spacy.load(\"en_core_web_sm\")\n",
    "\n",
    "spacy_text_blob = SpacyTextBlob()\n",
    "nlp.add_pipe(spacy_text_blob)"
   ]
  },
  {
   "cell_type": "code",
   "execution_count": 2,
   "metadata": {},
   "outputs": [],
   "source": [
    "data_path = os.path.join(\"abcnews-date-text.csv\", )"
   ]
  },
  {
   "cell_type": "code",
   "execution_count": 14,
   "metadata": {},
   "outputs": [],
   "source": [
    "# Defining the filepath were the data is going to be stored\n",
    "df_path = os.path.join(\"sentiments\")"
   ]
  },
  {
   "cell_type": "code",
   "execution_count": 4,
   "metadata": {},
   "outputs": [],
   "source": [
    "data = pd.read_csv(data_path)"
   ]
  },
  {
   "cell_type": "code",
   "execution_count": 5,
   "metadata": {},
   "outputs": [
    {
     "data": {
      "text/html": [
       "<div>\n",
       "<style scoped>\n",
       "    .dataframe tbody tr th:only-of-type {\n",
       "        vertical-align: middle;\n",
       "    }\n",
       "\n",
       "    .dataframe tbody tr th {\n",
       "        vertical-align: top;\n",
       "    }\n",
       "\n",
       "    .dataframe thead th {\n",
       "        text-align: right;\n",
       "    }\n",
       "</style>\n",
       "<table border=\"1\" class=\"dataframe\">\n",
       "  <thead>\n",
       "    <tr style=\"text-align: right;\">\n",
       "      <th></th>\n",
       "      <th>publish_date</th>\n",
       "      <th>headline_text</th>\n",
       "    </tr>\n",
       "  </thead>\n",
       "  <tbody>\n",
       "    <tr>\n",
       "      <th>608465</th>\n",
       "      <td>20110419</td>\n",
       "      <td>new authority to deal with trains buses and</td>\n",
       "    </tr>\n",
       "    <tr>\n",
       "      <th>432306</th>\n",
       "      <td>20081223</td>\n",
       "      <td>albany residents urged to be bushfire vigilant</td>\n",
       "    </tr>\n",
       "    <tr>\n",
       "      <th>905409</th>\n",
       "      <td>20140927</td>\n",
       "      <td>interview isaac smith</td>\n",
       "    </tr>\n",
       "    <tr>\n",
       "      <th>393052</th>\n",
       "      <td>20080626</td>\n",
       "      <td>lake currimundi study complete</td>\n",
       "    </tr>\n",
       "    <tr>\n",
       "      <th>1137432</th>\n",
       "      <td>20180811</td>\n",
       "      <td>nimbin fathers body believed to be found</td>\n",
       "    </tr>\n",
       "    <tr>\n",
       "      <th>115810</th>\n",
       "      <td>20040916</td>\n",
       "      <td>starcraft on track for nz success</td>\n",
       "    </tr>\n",
       "    <tr>\n",
       "      <th>682625</th>\n",
       "      <td>20120326</td>\n",
       "      <td>man dies after stabbing in craigieburn</td>\n",
       "    </tr>\n",
       "    <tr>\n",
       "      <th>739626</th>\n",
       "      <td>20121110</td>\n",
       "      <td>meares named australian cyclist of the year</td>\n",
       "    </tr>\n",
       "    <tr>\n",
       "      <th>467258</th>\n",
       "      <td>20090608</td>\n",
       "      <td>australia urged to help tuvaluan pirate hostages</td>\n",
       "    </tr>\n",
       "    <tr>\n",
       "      <th>552477</th>\n",
       "      <td>20100724</td>\n",
       "      <td>trafigura fined over toxic waste export</td>\n",
       "    </tr>\n",
       "    <tr>\n",
       "      <th>863286</th>\n",
       "      <td>20140327</td>\n",
       "      <td>national rural news</td>\n",
       "    </tr>\n",
       "    <tr>\n",
       "      <th>92950</th>\n",
       "      <td>20040526</td>\n",
       "      <td>us air raids kill 20 taliban official</td>\n",
       "    </tr>\n",
       "    <tr>\n",
       "      <th>916309</th>\n",
       "      <td>20141114</td>\n",
       "      <td>g20 deaths in custody march in brisbane</td>\n",
       "    </tr>\n",
       "    <tr>\n",
       "      <th>547083</th>\n",
       "      <td>20100629</td>\n",
       "      <td>crean to take gillards old portfolios</td>\n",
       "    </tr>\n",
       "    <tr>\n",
       "      <th>1064708</th>\n",
       "      <td>20170104</td>\n",
       "      <td>space tourism not profitable or practical</td>\n",
       "    </tr>\n",
       "    <tr>\n",
       "      <th>49174</th>\n",
       "      <td>20031016</td>\n",
       "      <td>miner wont guarantee kimberley jobs</td>\n",
       "    </tr>\n",
       "    <tr>\n",
       "      <th>313041</th>\n",
       "      <td>20070625</td>\n",
       "      <td>rain cancels bowen show</td>\n",
       "    </tr>\n",
       "    <tr>\n",
       "      <th>223756</th>\n",
       "      <td>20060312</td>\n",
       "      <td>schumacher puts ferrari on pole in bahrain</td>\n",
       "    </tr>\n",
       "    <tr>\n",
       "      <th>954105</th>\n",
       "      <td>20150527</td>\n",
       "      <td>albany restaurant sources grain locally to mil...</td>\n",
       "    </tr>\n",
       "    <tr>\n",
       "      <th>1163600</th>\n",
       "      <td>20190504</td>\n",
       "      <td>the natural way things charlotte wood required...</td>\n",
       "    </tr>\n",
       "  </tbody>\n",
       "</table>\n",
       "</div>"
      ],
      "text/plain": [
       "         publish_date                                      headline_text\n",
       "608465       20110419        new authority to deal with trains buses and\n",
       "432306       20081223     albany residents urged to be bushfire vigilant\n",
       "905409       20140927                              interview isaac smith\n",
       "393052       20080626                     lake currimundi study complete\n",
       "1137432      20180811           nimbin fathers body believed to be found\n",
       "115810       20040916                  starcraft on track for nz success\n",
       "682625       20120326             man dies after stabbing in craigieburn\n",
       "739626       20121110        meares named australian cyclist of the year\n",
       "467258       20090608   australia urged to help tuvaluan pirate hostages\n",
       "552477       20100724            trafigura fined over toxic waste export\n",
       "863286       20140327                                national rural news\n",
       "92950        20040526              us air raids kill 20 taliban official\n",
       "916309       20141114            g20 deaths in custody march in brisbane\n",
       "547083       20100629              crean to take gillards old portfolios\n",
       "1064708      20170104          space tourism not profitable or practical\n",
       "49174        20031016                miner wont guarantee kimberley jobs\n",
       "313041       20070625                            rain cancels bowen show\n",
       "223756       20060312         schumacher puts ferrari on pole in bahrain\n",
       "954105       20150527  albany restaurant sources grain locally to mil...\n",
       "1163600      20190504  the natural way things charlotte wood required..."
      ]
     },
     "execution_count": 5,
     "metadata": {},
     "output_type": "execute_result"
    }
   ],
   "source": [
    "data.sample(20)"
   ]
  },
  {
   "cell_type": "code",
   "execution_count": 6,
   "metadata": {},
   "outputs": [],
   "source": [
    "#Filtrate headline from the dataframe\n",
    "Headlines= data[\"headline_text\"]"
   ]
  },
  {
   "cell_type": "code",
   "execution_count": 7,
   "metadata": {},
   "outputs": [],
   "source": [
    "#Define an empty list\n",
    "polarity = []\n",
    "subjectivity = []"
   ]
  },
  {
   "cell_type": "code",
   "execution_count": 8,
   "metadata": {},
   "outputs": [
    {
     "name": "stdout",
     "output_type": "stream",
     "text": [
      "CPU times: user 45min 22s, sys: 6min 42s, total: 52min 5s\n",
      "Wall time: 52min 6s\n"
     ]
    }
   ],
   "source": [
    "%%time\n",
    "\n",
    "# Create for loop that loops over all the headlines and calculates the sentiment\n",
    "for doc in nlp.pipe(data[\"headline_text\"], batch_size=10000):\n",
    "    \n",
    "    # For every sentence calculate sentiment by adding polarity and subjectivity\n",
    "    for sentence in doc.sents:\n",
    "        polarity_score = sentence._.sentiment.polarity\n",
    "        subjectivity_score = sentence._.sentiment.subjectivity\n",
    "        \n",
    "        # Ad the scores to the lists\n",
    "        polarity.append(polarity_score)\n",
    "        subjectivity.append(subjectivity_score)"
   ]
  },
  {
   "cell_type": "code",
   "execution_count": 9,
   "metadata": {},
   "outputs": [],
   "source": [
    "# Adding the two list, polarity and subjectivity, to coloumns in the data frame\n",
    "\n",
    "# I could not add the lists directly, but when I convert them to series it works\n",
    "polarity_values = pd.Series(polarity)\n",
    "\n",
    "subjectivity_values = pd.Series(subjectivity)\n",
    "\n",
    "#I use pandas insert feature where loc is set to 0 as it is at this position where I want the values to start\n",
    "data.insert(loc=0, column=\"polarity\", value=polarity_values)\n",
    "\n",
    "data.insert(loc=0, column=\"subjectivity\", value=subjectivity_values)"
   ]
  },
  {
   "cell_type": "code",
   "execution_count": 10,
   "metadata": {},
   "outputs": [],
   "source": [
    "# Sentiment is (in this case) calculated by the sum of subjectivity and polarity\n",
    "\n",
    "# I use the add. feature to sum the two columns polarity and subjectivity.\n",
    "# In this case I use loc to to determine that it is the values that are in the same index position that are added together\n",
    "data.loc[:, \"sentiment\"] = data.loc[:,\"polarity\"].add(data.loc[:,\"subjectivity\"])"
   ]
  },
  {
   "cell_type": "code",
   "execution_count": 15,
   "metadata": {},
   "outputs": [],
   "source": [
    "# Save the updated data_df as a csv file\n",
    "data.to_csv(df_path)"
   ]
  },
  {
   "cell_type": "code",
   "execution_count": 16,
   "metadata": {},
   "outputs": [],
   "source": [
    "sentiment_df = pd.read_csv(df_path)"
   ]
  },
  {
   "cell_type": "code",
   "execution_count": 26,
   "metadata": {},
   "outputs": [
    {
     "data": {
      "image/png": "[encoded data removed]",
      "text/plain": [
       "<Figure size 432x288 with 1 Axes>"
      ]
     },
     "metadata": {
      "needs_background": "light"
     },
     "output_type": "display_data"
    }
   ],
   "source": [
    "plt.plot(sentiment_df.groupby(\"publish_date\").mean().rolling(7).mean())\n",
    "#Add title\n",
    "plt.title(\"Sentiments with 7-day rolling average\")\n",
    "\n",
    "#add xlabels\n",
    "plt.xlabel(\"?\")\n",
    "\n",
    "#add ylabel\n",
    "plt.ylabel(\"Sentiment\")\n",
    "\n",
    "plt.legend(['7-day average']);\n",
    "plt.show()"
   ]
  },
  {
   "cell_type": "markdown",
   "metadata": {},
   "source": [
    "I have gotten an output that shows a trend of a sentiment score that increases and stagnates over eachother. I imagine something is completely wrong with my output because of this trend, but don't really know what."
   ]
  }
 ],
 "metadata": {
  "kernelspec": {
   "display_name": "sentiment_environment",
   "language": "python",
   "name": "sentiment_environment"
  },
  "language_info": {
   "codemirror_mode": {
    "name": "ipython",
    "version": 3
   },
   "file_extension": ".py",
   "mimetype": "text/x-python",
   "name": "python",
   "nbconvert_exporter": "python",
   "pygments_lexer": "ipython3",
   "version": "3.6.9"
  }
 },
 "nbformat": 4,
 "nbformat_minor": 4
}
